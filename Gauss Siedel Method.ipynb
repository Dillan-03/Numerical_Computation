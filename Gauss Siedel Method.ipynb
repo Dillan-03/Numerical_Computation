{
 "cells": [
  {
   "cell_type": "code",
   "execution_count": 13,
   "id": "54e9f3af",
   "metadata": {},
   "outputs": [
    {
     "name": "stdout",
     "output_type": "stream",
     "text": [
      "Last iteration:  9\n",
      "Solution: [0.19148933317387246, 0.5744680675477951, 0.34042553301304707]\n"
     ]
    }
   ],
   "source": [
    "import numpy as np\n",
    "\n",
    "def gauss_seidel(A, b, x, tol=1e-6, max_iter=1000):\n",
    "    n = len(A)\n",
    "    iteration = 0\n",
    "    for i in range(max_iter):\n",
    "        iteration += 1\n",
    "        x_new = [0]*n\n",
    "        for j in range(n):\n",
    "            s1 = sum(A[j][k]*x_new[k] for k in range(j))\n",
    "            s2 = sum(A[j][k]*x[k] for k in range(j+1,n))\n",
    "            x_new[j] = (b[j] - s1 - s2) / A[j][j]\n",
    "        if all(abs(x_new[i] - x[i]) < tol for i in range(n)):\n",
    "            print(\"Last iteration: \",iteration)\n",
    "            return x_new\n",
    "        x = x_new\n",
    "    print(\"Last iteration: \",iteration)\n",
    "    return x\n",
    "\n",
    "\n",
    "A = np.array([[4, 1, -1], \n",
    "              [1, -5, 2], \n",
    "              [-1, 2, 6]], float)\n",
    "\n",
    "b = np.array([1, -2, 3], float)\n",
    "x0 = np.array([0, 0, 0], float)\n",
    "\n",
    "solution = gauss_seidel(A, b, x0)\n",
    "print(\"Solution:\", solution)"
   ]
  },
  {
   "cell_type": "code",
   "execution_count": 15,
   "id": "672630b6",
   "metadata": {},
   "outputs": [
    {
     "name": "stdout",
     "output_type": "stream",
     "text": [
      "Last Iteration:  31\n",
      "Solution: [ 0.36500668 -0.23378501  0.28506797 -0.20362037]\n"
     ]
    }
   ],
   "source": [
    "import numpy as np\n",
    "\n",
    "def jacobi(A, b, x, epsilon=1e-6, max_iter=1000):\n",
    "    n = len(A)\n",
    "    x = np.copy(x)\n",
    "    D = np.diag(np.diag(A))\n",
    "    R = A - D\n",
    "    iteration = 0\n",
    "    while iteration < max_iter:\n",
    "        x_new = np.dot(np.linalg.inv(D), b - np.dot(R, x))\n",
    "        iteration += 1\n",
    "        if np.linalg.norm(x_new - x) < epsilon:\n",
    "            print(\"Last Iteration: \",iteration)\n",
    "            print(\"Solution:\",x_new)\n",
    "            break\n",
    "        x = np.copy(x_new)\n",
    "    return x\n",
    "\n",
    "# Example usage\n",
    "\n",
    "A = np.array([[4, 1, 2, -1],\n",
    "             [3, 6, -1, 2],\n",
    "             [2, -1, 5, -3],\n",
    "             [4, 1, -3, -8]], float)\n",
    "\n",
    "b = np.array([2, -1, 3, 2], float)\n",
    "x0 = np.array([1, 1, 1, 1], float)\n",
    "x = jacobi(A, b, x0)"
   ]
  },
  {
   "cell_type": "code",
   "execution_count": 21,
   "id": "54ef0afd",
   "metadata": {},
   "outputs": [
    {
     "name": "stdout",
     "output_type": "stream",
     "text": [
      "Iteration 1: [1.25, 0.4375]\n",
      "Iteration 2: [1.53125, 0.5078125]\n",
      "Solution: [1.53125, 0.5078125]\n"
     ]
    }
   ],
   "source": [
    "import numpy as np\n",
    "\n",
    "def gauss_seidel(A, b, x, max_iter):\n",
    "    n = len(A)\n",
    "    iteration = 0\n",
    "    for i in range(max_iter):\n",
    "        iteration += 1\n",
    "        x_new = [0]*n\n",
    "        for j in range(n):\n",
    "            s1 = sum(A[j][k]*x_new[k] for k in range(j))\n",
    "            s2 = sum(A[j][k]*x[k] for k in range(j+1,n))\n",
    "            x_new[j] = (b[j] - s1 - s2) / A[j][j]\n",
    "        print(f\"Iteration {iteration}: {x_new}\")\n",
    "        if all(abs(x_new[i] - x[i]) < 1e-6 for i in range(n)):\n",
    "            return x_new\n",
    "        x = x_new\n",
    "    return x\n",
    "\n",
    "A = np.array([[2, 1], [-1, 4]], float)\n",
    "b = np.array([3.5, 0.5], float)\n",
    "x0 = np.array([2, 1], float)\n",
    "\n",
    "solution = gauss_seidel(A, b, x0, 2)\n",
    "print(\"Solution:\", solution)\n"
   ]
  }
 ],
 "metadata": {
  "kernelspec": {
   "display_name": "python_ml",
   "language": "python",
   "name": "python_ml"
  },
  "language_info": {
   "codemirror_mode": {
    "name": "ipython",
    "version": 3
   },
   "file_extension": ".py",
   "mimetype": "text/x-python",
   "name": "python",
   "nbconvert_exporter": "python",
   "pygments_lexer": "ipython3",
   "version": "3.9.0"
  }
 },
 "nbformat": 4,
 "nbformat_minor": 5
}

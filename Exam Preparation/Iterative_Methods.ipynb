{
 "cells": [
  {
   "cell_type": "code",
   "execution_count": 2,
   "metadata": {},
   "outputs": [
    {
     "data": {
      "text/plain": [
       "'Implemented Both Gauss Sidel and Jacobi Iteration'"
      ]
     },
     "execution_count": 2,
     "metadata": {},
     "output_type": "execute_result"
    }
   ],
   "source": [
    "import numpy as np\n",
    "\n",
    "\"\"\"Implemented Both Gauss Sidel and Jacobi Iteration\"\"\""
   ]
  },
  {
   "cell_type": "code",
   "execution_count": 4,
   "metadata": {},
   "outputs": [
    {
     "name": "stdout",
     "output_type": "stream",
     "text": [
      "Iteration 1: [2. 2. 2.]\n",
      "Iteration 2: [2. 2. 2.]\n",
      "Solution: [2. 2. 2.]\n"
     ]
    }
   ],
   "source": [
    "def jacobi(A, b, x0, max_iter):\n",
    "    n = len(A)\n",
    "    x = np.copy(x0)\n",
    "    D = np.diag(np.diag(A))\n",
    "    R = A - D\n",
    "    iteration = 0\n",
    "    while iteration < max_iter:\n",
    "        x_new = np.dot(np.linalg.inv(D), b - np.dot(R, x))\n",
    "        iteration += 1\n",
    "        print(\"Iteration {}:\".format(iteration), x_new)\n",
    "        if np.linalg.norm(x_new - x) < 1e-6:\n",
    "            break\n",
    "        x = np.copy(x_new)\n",
    "    return x\n",
    "\n",
    "# Example usage\n",
    "A = np.array([[2, 1, 0], [1, 3, 1], [0, 1, 2]])\n",
    "b = np.array([6, 10, 6])\n",
    "x0 = np.array([1,2,3])\n",
    "x = jacobi(A, b, x0, 1000)\n",
    "print(\"Solution:\", x)"
   ]
  },
  {
   "cell_type": "code",
   "execution_count": 7,
   "metadata": {},
   "outputs": [
    {
     "name": "stdout",
     "output_type": "stream",
     "text": [
      "Iteration 1: [2.0, 1.6666666666666667, 2.1666666666666665]\n",
      "Iteration 2: [2.1666666666666665, 1.8888888888888893, 2.0555555555555554]\n",
      "Iteration 3: [2.0555555555555554, 1.962962962962963, 2.0185185185185186]\n",
      "Iteration 4: [2.0185185185185186, 1.987654320987654, 2.006172839506173]\n",
      "Iteration 5: [2.006172839506173, 1.9958847736625518, 2.002057613168724]\n",
      "Iteration 6: [2.002057613168724, 1.9986282578875176, 2.000685871056241]\n",
      "Iteration 7: [2.000685871056241, 1.9995427526291725, 2.000228623685414]\n",
      "Iteration 8: [2.000228623685414, 1.9998475842097239, 2.000076207895138]\n",
      "Iteration 9: [2.000076207895138, 1.999949194736575, 2.0000254026317124]\n",
      "Iteration 10: [2.0000254026317124, 1.9999830649121921, 2.000008467543904]\n",
      "Iteration 11: [2.000008467543904, 1.999994354970731, 2.0000028225146345]\n",
      "Iteration 12: [2.0000028225146345, 1.999998118323577, 2.0000009408382113]\n",
      "Iteration 13: [2.0000009408382113, 1.999999372774526, 2.000000313612737]\n",
      "Iteration 14: [2.000000313612737, 1.9999997909248417, 2.000000104537579]\n",
      "Solution: [2.000000313612737, 1.9999997909248417, 2.000000104537579]\n"
     ]
    }
   ],
   "source": [
    "def gauss_seidel(A, b, x, max_iter):\n",
    "    n = len(A)\n",
    "    iteration = 0\n",
    "    for i in range(max_iter):\n",
    "        iteration += 1\n",
    "        x_new = [0]*n\n",
    "        for j in range(n):\n",
    "            s1 = sum(A[j][k]*x_new[k] for k in range(j))\n",
    "            s2 = sum(A[j][k]*x[k] for k in range(j+1,n))\n",
    "            x_new[j] = (b[j] - s1 - s2) / A[j][j]\n",
    "        print(f\"Iteration {iteration}: {x_new}\")\n",
    "        if all(abs(x_new[i] - x[i]) < 1e-6 for i in range(n)):\n",
    "            return x_new\n",
    "        x = x_new\n",
    "    return x\n",
    "x = gauss_seidel(A, b, x0, 100)\n",
    "print(\"Solution:\", x)"
   ]
  },
  {
   "cell_type": "code",
   "execution_count": null,
   "metadata": {},
   "outputs": [],
   "source": [
    "\"\"\"\n",
    "Disadvantages of Jacobi and Gauss-Siedel method.\n",
    "\n",
    "Before applying either Jacobi or Gauss-Siedel method, an important condition for convergence should be satisfied.\n",
    "It is known as the \"diagonal dominance\" where the absolute value of the element in the main element in the main \n",
    "diagonal in each row should be larger than the other elements in that role.\n",
    "\n",
    "There may be times where Jacobi or Gauss-Siedel method may not obey this condition.\n",
    "\n",
    "The Gauss-Seidel iteration generally out-performs the Jacobi iteration.\n",
    "_Gauss-Siedel may not work if the condition \"diagonal dominance\" is not satisified.\n",
    "\n",
    "\n",
    "\n",
    "\"\"\""
   ]
  }
 ],
 "metadata": {
  "kernelspec": {
   "display_name": "NumericalComp",
   "language": "python",
   "name": "python3"
  },
  "language_info": {
   "codemirror_mode": {
    "name": "ipython",
    "version": 3
   },
   "file_extension": ".py",
   "mimetype": "text/x-python",
   "name": "python",
   "nbconvert_exporter": "python",
   "pygments_lexer": "ipython3",
   "version": "3.8.13"
  },
  "orig_nbformat": 4,
  "vscode": {
   "interpreter": {
    "hash": "68eb64214bfc91adfc288769aa2dde0abf5ef2140fa073294b8b4aca5c38a56c"
   }
  }
 },
 "nbformat": 4,
 "nbformat_minor": 2
}

{
 "cells": [
  {
   "cell_type": "code",
   "execution_count": 2,
   "id": "d763f6b1",
   "metadata": {},
   "outputs": [
    {
     "name": "stdout",
     "output_type": "stream",
     "text": [
      "[[ 2.          7.         -1.          3.          1.        ]\n",
      " [ 0.          4.         -5.          2.         -6.        ]\n",
      " [ 0.          0.         -5.          0.52631579 -6.84210526]\n",
      " [ 0.          0.          0.          1.6374269   2.04678363]\n",
      " [ 0.          0.          0.          0.          0.95890411]]\n",
      "[0.44444444 0.55555556 0.66666667 0.22222222 0.22222222]\n"
     ]
    }
   ],
   "source": [
    "\"\"\"\n",
    "Remember that in a systems of linear equations: Ax = b\n",
    "\n",
    "_where A is a matrix that contains all the coefficients\n",
    "_x is a vector that contains all the solutions: x1, x2, x3, ... xn\n",
    "_b is a vector that contains all the constants\n",
    "\n",
    "\"\"\"\n",
    "\n",
    "import numpy as np\n",
    "\n",
    "A = np.array([[2, 7, -1, 3, 1],\n",
    "              [2, 3, 4, 1, 7],\n",
    "              [6, 2, -3, 2, -1],\n",
    "              [2, 1, 2, -1, 2],\n",
    "              [3, 4, 1, -2, 1]], float)\n",
    "\n",
    "b = np.array([5, 7, 2, 3, 4], float)\n",
    "n = len(b)\n",
    "x = np.zeros(n, float)                     #This vector is initially filled with zeroes\n",
    "                                          \n",
    "#Elimination\n",
    "for k in range(n - 1):\n",
    "    for i in range(k + 1, n):              #the first row is fixed, hence starting from k + 1\n",
    "        factor = A[k, k] / A[i, k]         #finding the factor so that the coefficients in the same columns are equal \n",
    "        b[i] = b[k] - factor * b[i]        \n",
    "        for j in range(k, n):\n",
    "            A[i, j] = A[k, j] - factor * A[i, j]    #elimination\n",
    "\n",
    "print(A)\n",
    "\n",
    "x[n - 1] = b[n - 1] / A[n - 1, n - 1]\n",
    "\n",
    "for i in range(n - 2, -1, -1):             #Iteration starting from 2nd to last element to the first backwards\n",
    "    terms = 0\n",
    "    for j in range(i + 1, n):\n",
    "       terms += A[i, j] * x[j]\n",
    "    x[i] = (b[i] - terms) / A[i, i]\n",
    "    \n",
    "print(x)\n"
   ]
  },
  {
   "cell_type": "code",
   "execution_count": 3,
   "id": "996759b9",
   "metadata": {},
   "outputs": [
    {
     "name": "stdout",
     "output_type": "stream",
     "text": [
      "[[ 0.  7. -1.  3.  1.]\n",
      " [ 0.  7. -1.  3.  1.]\n",
      " [ 0.  0.  0.  0.  0.]\n",
      " [ 0.  0. nan nan nan]\n",
      " [ 0.  0. nan nan nan]]\n"
     ]
    },
    {
     "name": "stderr",
     "output_type": "stream",
     "text": [
      "/var/folders/yp/jhy_wsbs6k36w16txlwwd7140000gn/T/ipykernel_17693/1217286281.py:25: RuntimeWarning: invalid value encountered in double_scalars\n",
      "  factor = A[k, k] / A[i, k]\n"
     ]
    },
    {
     "data": {
      "text/plain": [
       "\"\\nPlease note that this elimination method doesn't work if the diagonals contains 0. So please only refer to the \\nmethod below for all test-cases.\\n\""
      ]
     },
     "execution_count": 3,
     "metadata": {},
     "output_type": "execute_result"
    }
   ],
   "source": [
    "\n",
    "\"\"\"\n",
    "A = np.array([[2, 7, -1, 3, 1],\n",
    "              [2, 3, 4, 1, 7],\n",
    "              [6, 2, -3, 2, -1],\n",
    "              [2, 1, 2, -1, 2],\n",
    "              [3, 4, 1, -2, 1]], float)\n",
    "\n",
    "b = np.array([5, 7, 2, 3, 4], float)\n",
    "\"\"\"\n",
    "A = np.array([[0, 7, -1, 3, 1],\n",
    "              [2, 3, 4, 1, 7],\n",
    "              [6, 2, 0, 2, -1],\n",
    "              [2, 1, 2, 0, 2],\n",
    "              [3, 4, 1, -2, 1]], float)\n",
    "\n",
    "b = np.array([5, 7, 2, 3, 4], float)\n",
    "\n",
    "def elimination(A, b):\n",
    "    n = len(b)\n",
    "    x = np.zeros(n, float)                     #This vector is initially filled with zeroes\n",
    "                                          \n",
    "    #Elimination\n",
    "    for k in range(n - 1):\n",
    "        for i in range(k + 1, n):\n",
    "            factor = A[k, k] / A[i, k]\n",
    "            #b[i] = b[k] - factor * b[i]        \n",
    "            for j in range(k, n):\n",
    "                A[i, j] = A[k, j] - factor * A[i, j]\n",
    "    return A\n",
    "\n",
    "print(elimination(A, b))\n",
    "\n",
    "\"\"\"\n",
    "Please note that this elimination method doesn't work if the diagonals contains 0. So please only refer to the \n",
    "method below for all test-cases.\n",
    "\"\"\""
   ]
  },
  {
   "cell_type": "code",
   "execution_count": 11,
   "id": "dc4edd0a",
   "metadata": {},
   "outputs": [
    {
     "name": "stdout",
     "output_type": "stream",
     "text": [
      "[ 1.88888889 -3.44444444  2.        ]\n",
      "\n",
      "x1: 1.8888888888888888\n",
      "x2: -3.4444444444444446\n",
      "x3: 2.0\n"
     ]
    }
   ],
   "source": [
    "import numpy as np\n",
    "\n",
    "def Guassian_Elimination(A, b):\n",
    "    n = len(b)\n",
    "    x = np.zeros(n, float)                     #This vector is initially filled with zeroes\n",
    "                                          \n",
    "    #Elimination\n",
    "    for k in range(n - 1):\n",
    "        if A[k, k] == 0:                       #if diagonals are 0\n",
    "            for j in range(n):\n",
    "                A[k , j], A[k + 1, j] = A[k + 1, j], A[k, j]\n",
    "            b[k], b[k + 1] = b[k + 1], b[k]\n",
    "                \n",
    "        for i in range(k + 1, n):              #the first row is fixed, hence starting from k + 1\n",
    "            if A[i, k] == 0:                   #if a coefficient is zero, skip the lines below within the for-loop\n",
    "                continue                       #we do not need to eliminate since, it is already 0\n",
    "            factor = A[k, k] / A[i, k]         #finding the factor so that the coefficients in the same columns are equal \n",
    "            b[i] = b[k] - factor * b[i]        \n",
    "            for j in range(k, n):\n",
    "                A[i, j] = A[k, j] - factor * A[i, j]    #elimination\n",
    "\n",
    "    #Backward_Substitution\n",
    "    x[n - 1] = b[n - 1] / A[n - 1, n - 1]\n",
    "\n",
    "    for i in range(n - 2, -1, -1):             #Iteration starting from 2nd to last element to the first backwards\n",
    "        terms = 0\n",
    "        for j in range(i + 1, n):\n",
    "           terms += A[i, j] * x[j]\n",
    "        x[i] = (b[i] - terms) / A[i, i]\n",
    "    \n",
    "    print(f\"{x}\\n\")\n",
    "    for i in range(n):\n",
    "        print(f\"x{i + 1}: {x[i]}\")\n",
    "\n",
    "\n",
    "\n",
    "A = np.array([[4, -1, -1],\n",
    "              [2, 4, 2 ],\n",
    "              [1, 2, 4]], float)\n",
    "\n",
    "b = np.array([9,-6,3], float)\n",
    "Guassian_Elimination(A, b)\n",
    "\n",
    "\n"
   ]
  },
  {
   "cell_type": "code",
   "execution_count": 12,
   "id": "dba62aec",
   "metadata": {},
   "outputs": [
    {
     "name": "stdout",
     "output_type": "stream",
     "text": [
      "\n",
      "[0.02170543 0.79224806 1.05116279 0.15813953 0.03100775]\n",
      "\n",
      "x1: 0.021705426356589896\n",
      "x2: 0.7922480620155038\n",
      "x3: 1.0511627906976744\n",
      "x4: 0.15813953488372098\n",
      "x5: 0.03100775193798447\n"
     ]
    }
   ],
   "source": [
    "A = np.array([[0, 7, -1, 3, 1],\n",
    "              [2, 3, 4, 1, 7],\n",
    "              [6, 2, 0, 2, -1],\n",
    "              [2, 1, 2, 0, 2],\n",
    "              [3, 4, 1, -2, 1]], float)\n",
    "\n",
    "b = np.array([5, 7, 2, 3, 4], float)\n",
    "print('')\n",
    "Guassian_Elimination(A, b)"
   ]
  },
  {
   "cell_type": "code",
   "execution_count": 14,
   "id": "7b887d00",
   "metadata": {},
   "outputs": [
    {
     "name": "stdout",
     "output_type": "stream",
     "text": [
      "\n",
      "[1. 1. 1. 1.]\n",
      "\n",
      "x1: 1.0\n",
      "x2: 1.0\n",
      "x3: 1.0\n",
      "x4: 1.0\n"
     ]
    }
   ],
   "source": [
    "A = np.array([[4,3,2,1],\n",
    "              [1,2,2,2],\n",
    "              [1,1,3,0],\n",
    "              [2,1,2,3]], float)\n",
    "\n",
    "b = np.array([10,7,5,8], float)\n",
    "print('')\n",
    "Guassian_Elimination(A, b)"
   ]
  },
  {
   "cell_type": "code",
   "execution_count": null,
   "id": "7aa1228b",
   "metadata": {},
   "outputs": [],
   "source": []
  }
 ],
 "metadata": {
  "kernelspec": {
   "display_name": "NumericalComp",
   "language": "python",
   "name": "python3"
  },
  "language_info": {
   "codemirror_mode": {
    "name": "ipython",
    "version": 3
   },
   "file_extension": ".py",
   "mimetype": "text/x-python",
   "name": "python",
   "nbconvert_exporter": "python",
   "pygments_lexer": "ipython3",
   "version": "3.8.13"
  },
  "vscode": {
   "interpreter": {
    "hash": "68eb64214bfc91adfc288769aa2dde0abf5ef2140fa073294b8b4aca5c38a56c"
   }
  }
 },
 "nbformat": 4,
 "nbformat_minor": 5
}

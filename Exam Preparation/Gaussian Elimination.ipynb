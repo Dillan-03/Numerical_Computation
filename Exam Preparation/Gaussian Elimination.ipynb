{
 "cells": [
  {
   "cell_type": "code",
   "execution_count": 2,
   "metadata": {},
   "outputs": [],
   "source": [
    "import numpy as np"
   ]
  },
  {
   "cell_type": "code",
   "execution_count": 4,
   "metadata": {},
   "outputs": [
    {
     "name": "stdout",
     "output_type": "stream",
     "text": [
      "[1. 2. 2.]\n",
      "\n",
      "x1: 1.0\n",
      "x2: 2.0\n",
      "x3: 2.0\n"
     ]
    }
   ],
   "source": [
    "\"\"\" Is the row3- row2 method\"\"\"\n",
    "\"\"\" Can either be lower or upper triangle\"\"\"\n",
    "def Guassian_Elimination(A, b):\n",
    "    n = len(b)\n",
    "    x = np.zeros(n, float)                     #This vector is initially filled with zeroes\n",
    "                                          \n",
    "    #Elimination\n",
    "    for k in range(n - 1):\n",
    "        if A[k, k] == 0:                       #if diagonals are 0\n",
    "            for j in range(n):\n",
    "                A[k , j], A[k + 1, j] = A[k + 1, j], A[k, j]\n",
    "            b[k], b[k + 1] = b[k + 1], b[k]\n",
    "                \n",
    "        for i in range(k + 1, n):              #the first row is fixed, hence starting from k + 1\n",
    "            if A[i, k] == 0:                   #if a coefficient is zero, skip the lines below within the for-loop\n",
    "                continue                       #we do not need to eliminate since, it is already 0\n",
    "            factor = A[k, k] / A[i, k]         #finding the factor so that the coefficients in the same columns are equal \n",
    "            b[i] = b[k] - factor * b[i]        \n",
    "            for j in range(k, n):\n",
    "                A[i, j] = A[k, j] - factor * A[i, j]    #elimination\n",
    "\n",
    "    #Backward_Substitution\n",
    "    x[n - 1] = b[n - 1] / A[n - 1, n - 1]\n",
    "\n",
    "    for i in range(n - 2, -1, -1):             #Iteration starting from 2nd to last element to the first backwards\n",
    "        terms = 0\n",
    "        for j in range(i + 1, n):\n",
    "           terms += A[i, j] * x[j]\n",
    "        x[i] = (b[i] - terms) / A[i, i]\n",
    "    \n",
    "    print(f\"{x}\\n\")\n",
    "    for i in range(n):\n",
    "        print(f\"x{i + 1}: {x[i]}\")\n",
    "\n",
    "\n",
    "A = np.array([[2,1,4],\n",
    "              [1,2,2 ],\n",
    "              [2,4,6]], float)\n",
    "\n",
    "b = np.array([12,9,22], float)\n",
    "Guassian_Elimination(A, b)"
   ]
  },
  {
   "cell_type": "code",
   "execution_count": null,
   "metadata": {},
   "outputs": [],
   "source": []
  }
 ],
 "metadata": {
  "kernelspec": {
   "display_name": "NumericalComp",
   "language": "python",
   "name": "python3"
  },
  "language_info": {
   "codemirror_mode": {
    "name": "ipython",
    "version": 3
   },
   "file_extension": ".py",
   "mimetype": "text/x-python",
   "name": "python",
   "nbconvert_exporter": "python",
   "pygments_lexer": "ipython3",
   "version": "3.8.13"
  },
  "orig_nbformat": 4,
  "vscode": {
   "interpreter": {
    "hash": "68eb64214bfc91adfc288769aa2dde0abf5ef2140fa073294b8b4aca5c38a56c"
   }
  }
 },
 "nbformat": 4,
 "nbformat_minor": 2
}

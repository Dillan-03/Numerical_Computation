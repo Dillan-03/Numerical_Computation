{
 "cells": [
  {
   "cell_type": "code",
   "execution_count": 37,
   "id": "a45d1663",
   "metadata": {},
   "outputs": [
    {
     "name": "stdout",
     "output_type": "stream",
     "text": [
      "      x         y      dy/dx    hdy/dx\n",
      "0   0.0  1.000000   1.000000  0.100000\n",
      "1   0.1  1.100000   1.220000  0.122000\n",
      "2   0.2  1.222000   1.533284  0.153328\n",
      "3   0.3  1.375328   1.981528  0.198153\n",
      "4   0.4  1.573481   2.635843  0.263584\n",
      "5   0.5  1.837066   3.624810  0.362481\n",
      "6   0.6  2.199547   5.198005  0.519800\n",
      "7   0.7  2.719347   7.884848  0.788485\n",
      "8   0.8  3.507832  12.944884  1.294488\n",
      "9   0.9  4.802320  23.872279  2.387228\n",
      "10  1.0  7.189548  52.689603  5.268960\n"
     ]
    },
    {
     "data": {
      "image/png": "[encoded data removed]",
      "text/plain": [
       "<Figure size 432x288 with 1 Axes>"
      ]
     },
     "metadata": {
      "needs_background": "light"
     },
     "output_type": "display_data"
    },
    {
     "name": "stdout",
     "output_type": "stream",
     "text": [
      "Solution at x = 1 : 12.45850843419808\n"
     ]
    }
   ],
   "source": [
    "\"\"\"\n",
    "Euler's method\n",
    "\n",
    "dy/dx = f(x, y)             f(x, y) contains the terms x and y in it's derivative\n",
    "\n",
    "Consider dy/dx = (x ** 2) + (y ** 2)\n",
    "\n",
    "You will see that smaller the dx the better the approximations.\n",
    "\n",
    "This also means that in problems that involves rate of change the smaller the dt, the better the approximations.\n",
    "\n",
    "\"\"\"\n",
    "\n",
    "import pandas as pd\n",
    "import matplotlib.pyplot as plt\n",
    "\n",
    "def euler(f, x0, y0, x_end, h):\n",
    "    x = x0\n",
    "    y = y0\n",
    "    data = {'x': [], 'y': [], 'dy/dx': [], 'hdy/dx': []}\n",
    "    while x < x_end:\n",
    "        dy_dx = f(x, y)\n",
    "        hdy_dx = h * dy_dx\n",
    "        data['x'].append(x)\n",
    "        data['y'].append(y)\n",
    "        data['dy/dx'].append(dy_dx)\n",
    "        data['hdy/dx'].append(hdy_dx)\n",
    "        y = y + hdy_dx\n",
    "        x = x + h\n",
    "    df = pd.DataFrame(data)\n",
    "\n",
    "    print(df)\n",
    "    \n",
    "    plt.plot(df['x'], df['y'])\n",
    "    plt.plot(df['x'], df['dy/dx'])\n",
    "    plt.xlabel('x')\n",
    "    plt.ylabel('y')\n",
    "    plt.legend(['function', 'derivative'])\n",
    "    plt.title('Euler Method')\n",
    "    plt.grid()\n",
    "    plt.show()\n",
    "    return y\n",
    "\n",
    "dy_dx = lambda x, y: (x ** 2) + (y ** 2) \n",
    "x0 = 0\n",
    "y0 = 1\n",
    "x_end = 1\n",
    "h = 0.1\n",
    "\n",
    "solution = euler(dy_dx, x0, y0, x_end, h)\n",
    "print(\"Solution at x =\", x_end, \":\", solution)"
   ]
  },
  {
   "cell_type": "code",
   "execution_count": 34,
   "id": "5f100143",
   "metadata": {},
   "outputs": [
    {
     "name": "stdout",
     "output_type": "stream",
     "text": [
      "       x         y      dy/dx    hdy/dx\n",
      "0   0.00  1.000000   1.000000  0.050000\n",
      "1   0.05  1.050000   1.105000  0.055250\n",
      "2   0.10  1.105250   1.231578  0.061579\n",
      "3   0.15  1.166829   1.383990  0.069199\n",
      "4   0.20  1.236028   1.567766  0.078388\n",
      "5   0.25  1.314417   1.790191  0.089510\n",
      "6   0.30  1.403926   2.061009  0.103050\n",
      "7   0.35  1.506977   2.393479  0.119674\n",
      "8   0.40  1.626651   2.805992  0.140300\n",
      "9   0.45  1.766950   3.324613  0.166231\n",
      "10  0.50  1.933181   3.987188  0.199359\n",
      "11  0.55  2.132540   4.850228  0.242511\n",
      "12  0.60  2.375052   6.000870  0.300044\n",
      "13  0.65  2.675095   7.578634  0.378932\n",
      "14  0.70  3.054027   9.817080  0.490854\n",
      "15  0.75  3.544881  13.128681  0.656434\n",
      "16  0.80  4.201315  18.291047  0.914552\n",
      "17  0.85  5.115867  26.894599  1.344730\n",
      "18  0.90  6.460597  42.549317  2.127466\n",
      "19  0.95  8.588063  74.657328  3.732866\n"
     ]
    },
    {
     "data": {
      "image/png": "[encoded data removed]",
      "text/plain": [
       "<Figure size 432x288 with 1 Axes>"
      ]
     },
     "metadata": {
      "needs_background": "light"
     },
     "output_type": "display_data"
    },
    {
     "name": "stdout",
     "output_type": "stream",
     "text": [
      "Solution at x = 1 : 12.320929527485626\n"
     ]
    }
   ],
   "source": [
    "def euler(f, x0, y0, x_end, h):\n",
    "    x = x0\n",
    "    y = y0\n",
    "    data = {'x': [], 'y': [], 'dy/dx': [], 'hdy/dx': []}\n",
    "    while x < x_end:\n",
    "        dy_dx = f(x, y)\n",
    "        hdy_dx = h * dy_dx\n",
    "        data['x'].append(x)\n",
    "        data['y'].append(y)\n",
    "        data['dy/dx'].append(dy_dx)\n",
    "        data['hdy/dx'].append(hdy_dx)\n",
    "        y = y + hdy_dx\n",
    "        x = x + h\n",
    "    df = pd.DataFrame(data)\n",
    "\n",
    "    print(df)\n",
    "    \n",
    "    plt.plot(df['x'], df['y'])\n",
    "    plt.plot(df['x'], df['dy/dx'])\n",
    "    plt.xlabel('x')\n",
    "    plt.ylabel('y')\n",
    "    plt.legend(['function', 'derivative'])\n",
    "    plt.title('Euler Method')\n",
    "    plt.grid()\n",
    "    plt.show()\n",
    "    return y\n",
    "\n",
    "dy_dx = lambda x, y: (x ** 2) + (y ** 2) # dy/dx = x + y\n",
    "x0 = 0\n",
    "y0 = 1\n",
    "x_end = 1\n",
    "h = 0.05        #h = step-side = dx = the number of steps given within an interval\n",
    "\n",
    "solution = euler(dy_dx, x0, y0, x_end, h)\n",
    "print(\"Solution at x =\", x_end, \":\", solution)"
   ]
  },
  {
   "cell_type": "code",
   "execution_count": 36,
   "id": "6200d732",
   "metadata": {},
   "outputs": [
    {
     "name": "stdout",
     "output_type": "stream",
     "text": [
      "        x          y       dy/dx    hdy/dx\n",
      "0   0.000   1.000000    1.000000  0.025000\n",
      "1   0.025   1.025000    1.051250  0.026281\n",
      "2   0.050   1.051281    1.107692  0.027692\n",
      "3   0.075   1.078974    1.169809  0.029245\n",
      "4   0.100   1.108219    1.238149  0.030954\n",
      "5   0.125   1.139173    1.313339  0.032833\n",
      "6   0.150   1.172006    1.396098  0.034902\n",
      "7   0.175   1.206908    1.487253  0.037181\n",
      "8   0.200   1.244090    1.587759  0.039694\n",
      "9   0.225   1.283784    1.698726  0.042468\n",
      "10  0.250   1.326252    1.821444  0.045536\n",
      "11  0.275   1.371788    1.957427  0.048936\n",
      "12  0.300   1.420724    2.108456  0.052711\n",
      "13  0.325   1.473435    2.276636  0.056916\n",
      "14  0.350   1.530351    2.464474  0.061612\n",
      "15  0.375   1.591963    2.674971  0.066874\n",
      "16  0.400   1.658837    2.911740  0.072794\n",
      "17  0.425   1.731631    3.179169  0.079479\n",
      "18  0.450   1.811110    3.482619  0.087065\n",
      "19  0.475   1.898175    3.828694  0.095717\n",
      "20  0.500   1.993893    4.225608  0.105640\n",
      "21  0.525   2.099533    4.683663  0.117092\n",
      "22  0.550   2.216624    5.215924  0.130398\n",
      "23  0.575   2.347023    5.839140  0.145978\n",
      "24  0.600   2.493001    6.575054  0.164376\n",
      "25  0.625   2.657377    7.452279  0.186307\n",
      "26  0.650   2.843684    8.509041  0.212726\n",
      "27  0.675   3.056410    9.797269  0.244932\n",
      "28  0.700   3.301342   11.388859  0.284721\n",
      "29  0.725   3.586064   13.385477  0.334637\n",
      "30  0.750   3.920700   15.934392  0.398360\n",
      "31  0.775   4.319060   19.254907  0.481373\n",
      "32  0.800   4.800433   23.684156  0.592104\n",
      "33  0.825   5.392537   29.760079  0.744002\n",
      "34  0.850   6.136539   38.379609  0.959490\n",
      "35  0.875   7.096029   51.119253  1.277981\n",
      "36  0.900   8.374010   70.934049  1.773351\n",
      "37  0.925  10.147362  103.824572  2.595614\n",
      "38  0.950  12.742976  163.285935  4.082148\n",
      "39  0.975  16.825124  284.035432  7.100886\n"
     ]
    },
    {
     "data": {
      "image/png": "[encoded data removed]",
      "text/plain": [
       "<Figure size 432x288 with 1 Axes>"
      ]
     },
     "metadata": {
      "needs_background": "light"
     },
     "output_type": "display_data"
    },
    {
     "name": "stdout",
     "output_type": "stream",
     "text": [
      "Solution at x = 1 : 23.92601006138139\n"
     ]
    }
   ],
   "source": [
    "def euler(f, x0, y0, x_end, h):\n",
    "    x = x0\n",
    "    y = y0\n",
    "    data = {'x': [], 'y': [], 'dy/dx': [], 'hdy/dx': []}\n",
    "    while x < x_end:\n",
    "        dy_dx = f(x, y)\n",
    "        hdy_dx = h * dy_dx\n",
    "        data['x'].append(x)\n",
    "        data['y'].append(y)\n",
    "        data['dy/dx'].append(dy_dx)\n",
    "        data['hdy/dx'].append(hdy_dx)\n",
    "        y = y + hdy_dx\n",
    "        x = x + h\n",
    "    df = pd.DataFrame(data)\n",
    "\n",
    "    print(df)\n",
    "    \n",
    "    plt.plot(df['x'], df['y'])\n",
    "    plt.plot(df['x'], df['dy/dx'])\n",
    "    plt.xlabel('x')\n",
    "    plt.ylabel('y')\n",
    "    plt.legend(['function', 'derivative'])\n",
    "    plt.title('Euler Method')\n",
    "    plt.grid()\n",
    "    plt.show()\n",
    "    return y\n",
    "\n",
    "dy_dx = lambda x, y: (x ** 2) + (y ** 2) # dy/dx = x + y\n",
    "x0 = 0\n",
    "y0 = 1\n",
    "x_end = 1\n",
    "h = 0.025\n",
    "\n",
    "solution = euler(dy_dx, x0, y0, x_end, h)\n",
    "print(\"Solution at x =\", x_end, \":\", solution)"
   ]
  },
  {
   "cell_type": "code",
   "execution_count": 55,
   "id": "afb713f5",
   "metadata": {},
   "outputs": [
    {
     "name": "stdout",
     "output_type": "stream",
     "text": [
      "          t         y     dy/dt    hdy/dt\n",
      "0  1.000000  2.000000 -3.000000 -1.000000\n",
      "1  1.333333  1.000000 -0.250000 -0.083333\n",
      "2  1.666667  0.916667 -0.240278 -0.080093\n",
      "3  2.000000  0.836574 -0.199856 -0.066619\n"
     ]
    },
    {
     "data": {
      "image/png": "[encoded data removed]",
      "text/plain": [
       "<Figure size 432x288 with 1 Axes>"
      ]
     },
     "metadata": {
      "needs_background": "light"
     },
     "output_type": "display_data"
    },
    {
     "name": "stdout",
     "output_type": "stream",
     "text": [
      "Solution at t = 2 : 0.7699553469364426\n"
     ]
    }
   ],
   "source": [
    "\"\"\"\n",
    "Lecture 12 example:\n",
    "\n",
    "dy/dt = (-(y ** 2) + (1 / t))   for 1 >= t and t <= 2, t is between 1 and 2 inclusively\n",
    "\n",
    "t0 = 1\n",
    "y0 = 2\n",
    "t_end = 2\n",
    "dt = (2 - 1)/3\n",
    "\n",
    "\"\"\"\n",
    "\n",
    "def euler(f, t0, y0, t_end, h):\n",
    "    t = t0\n",
    "    y = y0\n",
    "    data = {'t': [], 'y': [], 'dy/dt': [], 'hdy/dt': []}\n",
    "    while t < t_end:\n",
    "        dy_dt = f(t, y)\n",
    "        hdy_dt = h * dy_dt\n",
    "        data['t'].append(t)\n",
    "        data['y'].append(y)\n",
    "        data['dy/dt'].append(dy_dt)\n",
    "        data['hdy/dt'].append(hdy_dt)\n",
    "        y = y + hdy_dt\n",
    "        t = t + h\n",
    "    df = pd.DataFrame(data)\n",
    "\n",
    "    print(df)\n",
    "    \n",
    "    plt.plot(df['t'], df['y'])\n",
    "    plt.plot(df['t'], df['dy/dt'])\n",
    "    plt.xlabel('t')\n",
    "    plt.ylabel('y')\n",
    "    plt.legend(['function', 'derivative'])\n",
    "    plt.title('Euler Method')\n",
    "    plt.grid()\n",
    "    plt.show()\n",
    "    return y\n",
    "\n",
    "dy_dt = lambda t, y: -(y ** 2) + (1 / t)\n",
    "t0 = 1\n",
    "y0 = 2\n",
    "t_end = 2\n",
    "h = (2 - 1)/3    #h = dt = step-side = the number of steps given within an interval\n",
    "\n",
    "solution = euler(dy_dt, t0, y0, t_end, h)\n",
    "print(\"Solution at t =\", t_end, \":\", solution)"
   ]
  }
 ],
 "metadata": {
  "kernelspec": {
   "display_name": "python_ml",
   "language": "python",
   "name": "python_ml"
  },
  "language_info": {
   "codemirror_mode": {
    "name": "ipython",
    "version": 3
   },
   "file_extension": ".py",
   "mimetype": "text/x-python",
   "name": "python",
   "nbconvert_exporter": "python",
   "pygments_lexer": "ipython3",
   "version": "3.9.0"
  }
 },
 "nbformat": 4,
 "nbformat_minor": 5
}

{
 "cells": [
  {
   "cell_type": "code",
   "execution_count": 7,
   "id": "9f7fa774",
   "metadata": {},
   "outputs": [
    {
     "name": "stdout",
     "output_type": "stream",
     "text": [
      "Number of iterations: 21\n",
      "The root is 1.00000 in 5 decimal places.\n"
     ]
    }
   ],
   "source": [
    "\"\"\"\n",
    "Bisection method searches for the point that is embraced by two values of x having corresponding values of y having\n",
    "different signs.The interval between x values are halved and halved until the bisection converges towards the root.\n",
    "\"\"\"\n",
    "import sys\n",
    "\n",
    "x1 = 0\n",
    "x2 = 1.3\n",
    "\n",
    "y1 = 2 * x1 ** 2 - 5 * x1 + 3\n",
    "y2 = 2 * x2 ** 2 - 5 * x2 + 3\n",
    "\n",
    "if y1 * y2 > 0:\n",
    "    sys.exit(\"The root is not within the given interval!\")\n",
    "    \n",
    "for i in range(100):\n",
    "    xh = (x1 + x2) / 2\n",
    "    yh = 2 * xh ** 2 - 5 * xh + 3\n",
    "    y1 = 2 * (x1 ** 2) - (5 * x1) + 3\n",
    "    \n",
    "    if abs(y1) < 0.000001:\n",
    "        break\n",
    "    elif y1 * yh < 0:\n",
    "        x2 = xh\n",
    "    else:\n",
    "        x1 = xh\n",
    "        \n",
    "print(f\"Number of iterations: {i}\")\n",
    "print(\"The root is %0.5f in 5 decimal places.\" % x1)"
   ]
  },
  {
   "cell_type": "code",
   "execution_count": 15,
   "id": "2a787bcd",
   "metadata": {},
   "outputs": [
    {
     "name": "stdout",
     "output_type": "stream",
     "text": [
      "Number of iterations: 2\n",
      "The root is 1.25000 in 5 decimal places.\n",
      "\n",
      " i    x\n",
      " 1 1.00\n",
      " 2 1.50\n",
      " 3 1.25\n"
     ]
    }
   ],
   "source": [
    "import pandas as pd\n",
    "import numpy as np\n",
    "import sys\n",
    "\n",
    "x1 = 0\n",
    "x2 = 2\n",
    "i_list = []\n",
    "xh_list = []\n",
    "\n",
    "y1 = x1 ** 3 - 2\n",
    "y2 = x2 ** 3 - 2\n",
    "\n",
    "if y1 * y2 > 0:\n",
    "    sys.exit(\"The root is not within the given interval!\")\n",
    "    \n",
    "for i in range(3):\n",
    "    xh = (x1 + x2) / 2\n",
    "    yh = xh ** 3 - 2\n",
    "    y1 = x1 ** 3 - 2\n",
    "    \n",
    "    i_list.append(i + 1)\n",
    "    xh_list.append(xh)\n",
    "    \n",
    "    if abs(y1) < 0.000001:\n",
    "        break\n",
    "    elif y1 * yh < 0:\n",
    "        x2 = xh\n",
    "    else:\n",
    "        x1 = xh\n",
    "        \n",
    "print(f\"Number of iterations: {i}\")\n",
    "print(\"The root is %0.5f in 5 decimal places.\\n\" % x1)\n",
    "\n",
    "def create_table(iterations, x_values):\n",
    "    data = {\"i\": iterations, \"x\": x_values}\n",
    "    \n",
    "    df = pd.DataFrame(data).to_string(index = False)\n",
    "    return df\n",
    "\n",
    "print(create_table(i_list, xh_list))\n"
   ]
  }
 ],
 "metadata": {
  "kernelspec": {
   "display_name": "python_ml",
   "language": "python",
   "name": "python_ml"
  },
  "language_info": {
   "codemirror_mode": {
    "name": "ipython",
    "version": 3
   },
   "file_extension": ".py",
   "mimetype": "text/x-python",
   "name": "python",
   "nbconvert_exporter": "python",
   "pygments_lexer": "ipython3",
   "version": "3.9.0"
  }
 },
 "nbformat": 4,
 "nbformat_minor": 5
}

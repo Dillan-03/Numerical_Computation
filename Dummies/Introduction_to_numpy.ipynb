{
 "cells": [
  {
   "cell_type": "code",
   "execution_count": 10,
   "id": "d7c38b27",
   "metadata": {},
   "outputs": [
    {
     "name": "stdout",
     "output_type": "stream",
     "text": [
      "a = [1 3 5]\n",
      "b = [1 2 3]\n",
      "a + b = [2 5 8]\n",
      "a - b = [0 1 2]\n",
      "3a + 1= [ 4 10 16]\n"
     ]
    }
   ],
   "source": [
    "import numpy as np\n",
    "\n",
    "#Inititializing 1-dimensional numpy arrays\n",
    "\n",
    "a = np.array([1, 3, 5])\n",
    "b = np.array([1, 2, 3])\n",
    "\n",
    "print(f\"a = {a}\")\n",
    "print(f\"b = {b}\")\n",
    "print(f\"a + b = {a + b}\")\n",
    "print(f\"a - b = {a - b}\")\n",
    "print(f\"3a + 1= {(3 * a) + 1}\")"
   ]
  },
  {
   "cell_type": "code",
   "execution_count": 29,
   "id": "cb4f85a4",
   "metadata": {},
   "outputs": [
    {
     "name": "stdout",
     "output_type": "stream",
     "text": [
      "c = [[9. 8. 7.]\n",
      " [6. 5. 4.]] \n",
      "\n",
      "2c = [[18. 16. 14.]\n",
      " [12. 10.  8.]] \n",
      "\n",
      "c + d = [[10.  9.  8.]\n",
      " [ 7.  6.  5.]] \n",
      "\n"
     ]
    }
   ],
   "source": [
    "#Initializing 2-dimensional numpy arrays\n",
    "\n",
    "c = np.array([[9.0, 8.0, 7.0], [6.0, 5.0, 4.0]])\n",
    "d = np.array([[1.0, 1.0, 1.0], [1.0, 1.0, 1.0]])\n",
    "\n",
    "print(f\"c = {c} \\n\")\n",
    "print(f\"2c = {2 * c} \\n\")\n",
    "print(f\"c + d = {c + d} \\n\")"
   ]
  },
  {
   "cell_type": "code",
   "execution_count": 30,
   "id": "893791d9",
   "metadata": {},
   "outputs": [
    {
     "name": "stdout",
     "output_type": "stream",
     "text": [
      "dimension of a: 1\n",
      "dimension of b: 1\n",
      "dimension of c: 2\n",
      "dimension of d: 2\n"
     ]
    }
   ],
   "source": [
    "#returns the dimension of a numpy-array\n",
    "\n",
    "print(f\"dimension of a: {a.ndim}\")\n",
    "print(f\"dimension of b: {b.ndim}\")\n",
    "print(f\"dimension of c: {c.ndim}\")\n",
    "print(f\"dimension of d: {d.ndim}\")"
   ]
  },
  {
   "cell_type": "code",
   "execution_count": 32,
   "id": "675c69dd",
   "metadata": {},
   "outputs": [
    {
     "name": "stdout",
     "output_type": "stream",
     "text": [
      "shape of a: (3,)\n",
      "shape of b: (3,)\n",
      "shape of c: (2, 3)\n",
      "shape of d: (2, 3)\n"
     ]
    }
   ],
   "source": [
    "#returns the shape of a numpy-array\n",
    "\n",
    "print(f\"shape of a: {a.shape}\")   #3-rows  \n",
    "print(f\"shape of b: {b.shape}\")   #3-rows\n",
    "print(f\"shape of c: {c.shape}\")   #2-rows, 3-columns\n",
    "print(f\"shape of d: {d.shape}\")   #2-rows, 3-columns"
   ]
  },
  {
   "cell_type": "code",
   "execution_count": 33,
   "id": "05daff19",
   "metadata": {},
   "outputs": [
    {
     "name": "stdout",
     "output_type": "stream",
     "text": [
      "data-type of a: int64\n",
      "data-type of b: int64\n",
      "data-type of c: float64\n",
      "data-type of d: float64\n"
     ]
    }
   ],
   "source": [
    "#return the data-type of a numpy-array\n",
    "\n",
    "print(f\"data-type of a: {a.dtype}\")\n",
    "print(f\"data-type of b: {b.dtype}\")\n",
    "print(f\"data-type of c: {c.dtype}\")\n",
    "print(f\"data-type of d: {d.dtype}\")"
   ]
  },
  {
   "cell_type": "code",
   "execution_count": 35,
   "id": "a03017ef",
   "metadata": {},
   "outputs": [
    {
     "name": "stdout",
     "output_type": "stream",
     "text": [
      "data-type of e: int16\n",
      "data-type of f: int16\n"
     ]
    }
   ],
   "source": [
    "#Specify the data-type of a numpy-array\n",
    "\n",
    "e = np.array([1, 3, 5], dtype = \"int16\")\n",
    "f = np.array([1, 2, 3], dtype = \"int16\")\n",
    "\n",
    "print(f\"data-type of e: {e.dtype}\")\n",
    "print(f\"data-type of f: {f.dtype}\")"
   ]
  },
  {
   "cell_type": "code",
   "execution_count": 39,
   "id": "1067d4e5",
   "metadata": {},
   "outputs": [
    {
     "name": "stdout",
     "output_type": "stream",
     "text": [
      "8 bytes\n",
      "8 bytes\n",
      "2 bytes\n",
      "2 bytes\n"
     ]
    }
   ],
   "source": [
    "#Specify the size of each element in the numpy-array\n",
    "\n",
    "print(\"a: \", a.itemsize, \"bytes\")   #64/8 = 8 bytes\n",
    "print(\"b: \", b.itemsize, \"bytes\")   #64/8 = 8 bytes\n",
    "print(\"e: \", e.itemsize, \"bytes\")   #16/8 = 2 bytes\n",
    "print(f.itemsize, \"bytes\")   #16/6 = 2 bytes"
   ]
  },
  {
   "cell_type": "code",
   "execution_count": 42,
   "id": "b54b67a7",
   "metadata": {},
   "outputs": [
    {
     "name": "stdout",
     "output_type": "stream",
     "text": [
      "size of a:  3\n",
      "size of b:  3\n",
      "size of c:  6\n",
      "size of d:  6\n",
      "size of e:  3\n",
      "size of f:  3\n"
     ]
    }
   ],
   "source": [
    "#returns the snumber of elements in a numpy-array\n",
    "\n",
    "print(\"size of a: \", a.size)\n",
    "print(\"size of b: \", b.size)\n",
    "print(\"size of c: \", c.size)\n",
    "print(\"size of d: \", d.size)\n",
    "print(\"size of e: \", e.size)\n",
    "print(\"size of f: \", f.size)"
   ]
  },
  {
   "cell_type": "code",
   "execution_count": 45,
   "id": "e1e2a245",
   "metadata": {},
   "outputs": [
    {
     "name": "stdout",
     "output_type": "stream",
     "text": [
      "total number of bytes in a:  24\n",
      "total number of bytes in c:  48\n",
      "total number of bytes in e:  6\n"
     ]
    }
   ],
   "source": [
    "#Finding the total number of bytes of the numpy-array\n",
    "\n",
    "print(\"total number of bytes in a: \", a.size * a.itemsize)\n",
    "print(\"total number of bytes in c: \", c.size * c.itemsize)\n",
    "print(\"total number of bytes in e: \", e.size * e.itemsize)"
   ]
  },
  {
   "cell_type": "code",
   "execution_count": 61,
   "id": "755618d6",
   "metadata": {},
   "outputs": [
    {
     "name": "stdout",
     "output_type": "stream",
     "text": [
      "[[ 1  2  3  4  5  6  7]\n",
      " [ 8  9 10 11 12 13 14]]\n",
      "\n",
      "1 2 3 4 5 6 7 8 9 10 11 12 13 14 \n",
      "\n",
      "\n",
      "2 4 6 8 10 12 14 16 18 20 22 24 26 28 \n",
      "\n",
      "\n",
      "2 4 6 8 10 12 14\n",
      "\n",
      "\n",
      "16 18 20 22 24 26 28\n",
      "\n",
      "\n",
      "0 0 0 0 0 0 0 0 0 0 0 0 0 0 \n",
      "\n",
      "[[0 0 0 0 0 0 0]\n",
      " [0 0 0 0 0 0 0]]\n"
     ]
    }
   ],
   "source": [
    "#Accessing/Changing specific elements, rows, columns, etc\n",
    "\n",
    "g = np.array([[1, 2, 3, 4, 5, 6, 7], [8, 9, 10, 11, 12, 13, 14]])   #2x7 array\n",
    "print(g, end = \"\\n\\n\")\n",
    "\n",
    "#[row][col]\n",
    "\n",
    "for r in range(2):\n",
    "    for c in range(7):\n",
    "        print(g[r][c], end = \" \")\n",
    "\n",
    "print(\"\\n\\n\")\n",
    "\n",
    "for r in range(2):\n",
    "    for c in range(7):\n",
    "        g[r][c] *= 2\n",
    "        print(g[r][c], end = \" \")\n",
    "\n",
    "print(\"\\n\\n\")\n",
    "\n",
    "print(g[0][0], g[0][1], g[0][2], g[0][3], g[0][4], g[0][5], g[0][6])\n",
    "\n",
    "print(\"\\n\")\n",
    "\n",
    "print(g[1][0], g[1][1], g[1][2], g[1][3], g[1][4], g[1][5], g[1][6])\n",
    "\n",
    "print(\"\\n\")\n",
    "\n",
    "for r in range(2):\n",
    "    for c in range(7):\n",
    "        g[r][c] = 0\n",
    "        print(g[r][c], end = \" \")\n",
    "        \n",
    "print(\"\\n\")\n",
    "\n",
    "print(g)"
   ]
  },
  {
   "cell_type": "code",
   "execution_count": 75,
   "id": "e2955117",
   "metadata": {},
   "outputs": [
    {
     "name": "stdout",
     "output_type": "stream",
     "text": [
      "[0.] \n",
      "\n",
      " ________________________________\n",
      "\n",
      "[[0 0]\n",
      " [0 0]] \n",
      "\n",
      " ________________________________\n",
      "\n",
      "[[0 0 0]\n",
      " [0 0 0]\n",
      " [0 0 0]] \n",
      "\n",
      " ________________________________\n",
      "\n",
      "[[[0. 0.]\n",
      "  [0. 0.]]\n",
      "\n",
      " [[0. 0.]\n",
      "  [0. 0.]]] \n",
      "\n",
      " ________________________________\n",
      "\n",
      "[[[[0. 0.]\n",
      "   [0. 0.]]\n",
      "\n",
      "  [[0. 0.]\n",
      "   [0. 0.]]]\n",
      "\n",
      "\n",
      " [[[0. 0.]\n",
      "   [0. 0.]]\n",
      "\n",
      "  [[0. 0.]\n",
      "   [0. 0.]]]] \n",
      "\n",
      " ________________________________\n",
      "\n"
     ]
    }
   ],
   "source": [
    "#0-matrices\n",
    "\n",
    "h = np.zeros(1)\n",
    "i = np.zeros((2, 2), dtype = \"int32\")\n",
    "j = np.zeros((3, 3), dtype = \"int16\")\n",
    "\n",
    "print(h, \"\\n\\n\", \"________________________________\\n\")\n",
    "print(i, \"\\n\\n\", \"________________________________\\n\")\n",
    "print(j, \"\\n\\n\", \"________________________________\\n\")\n",
    "\n",
    "#2 x (2 x 2) matrices in a matrix\n",
    "\n",
    "k = np.zeros((2, 2, 2))\n",
    "print(k, \"\\n\\n\", \"________________________________\\n\")\n",
    "\n",
    "l = np.zeros((2, 2, 2, 2))\n",
    "print(l, \"\\n\\n\", \"________________________________\\n\")"
   ]
  },
  {
   "cell_type": "code",
   "execution_count": 74,
   "id": "bc6c5d15",
   "metadata": {},
   "outputs": [
    {
     "name": "stdout",
     "output_type": "stream",
     "text": [
      "[1.] \n",
      "\n",
      " ________________________________\n",
      "\n",
      "[[1 1]\n",
      " [1 1]] \n",
      "\n",
      " ________________________________\n",
      "\n",
      "[[1 1 1]\n",
      " [1 1 1]\n",
      " [1 1 1]] \n",
      "\n",
      " ________________________________\n",
      "\n",
      "[[[1. 1.]\n",
      "  [1. 1.]]\n",
      "\n",
      " [[1. 1.]\n",
      "  [1. 1.]]] \n",
      "\n",
      " ________________________________\n",
      "\n",
      "[[[[1. 1.]\n",
      "   [1. 1.]]\n",
      "\n",
      "  [[1. 1.]\n",
      "   [1. 1.]]]\n",
      "\n",
      "\n",
      " [[[1. 1.]\n",
      "   [1. 1.]]\n",
      "\n",
      "  [[1. 1.]\n",
      "   [1. 1.]]]] \n",
      "\n",
      " ________________________________\n",
      "\n"
     ]
    }
   ],
   "source": [
    "#all-1 matrices\n",
    "\n",
    "m = np.ones(1)\n",
    "n = np.ones((2, 2), dtype = \"int32\")\n",
    "o = np.ones((3, 3), dtype = \"int16\")\n",
    "\n",
    "print(m, \"\\n\\n\", \"________________________________\\n\")\n",
    "print(n, \"\\n\\n\", \"________________________________\\n\")\n",
    "print(o, \"\\n\\n\", \"________________________________\\n\")\n",
    "\n",
    "#2 x (2 x 2) matrices in a matrix\n",
    "\n",
    "p = np.ones((2, 2, 2))\n",
    "print(p, \"\\n\\n\", \"________________________________\\n\")\n",
    "\n",
    "q = np.ones((2, 2, 2, 2))\n",
    "print(q, \"\\n\\n\", \"________________________________\\n\")"
   ]
  },
  {
   "cell_type": "code",
   "execution_count": 78,
   "id": "2054de83",
   "metadata": {},
   "outputs": [
    {
     "name": "stdout",
     "output_type": "stream",
     "text": [
      "[1] \n",
      "\n",
      " ________________________________\n",
      "\n",
      "[[1 1]\n",
      " [1 1]] \n",
      "\n",
      " ________________________________\n",
      "\n",
      "[[99 99 99]\n",
      " [99 99 99]\n",
      " [99 99 99]] \n",
      "\n",
      " ________________________________\n",
      "\n",
      "[[[2 2]\n",
      "  [2 2]]\n",
      "\n",
      " [[2 2]\n",
      "  [2 2]]] \n",
      "\n",
      " ________________________________\n",
      "\n",
      "[[[[4 4]\n",
      "   [4 4]]\n",
      "\n",
      "  [[4 4]\n",
      "   [4 4]]]\n",
      "\n",
      "\n",
      " [[[4 4]\n",
      "   [4 4]]\n",
      "\n",
      "  [[4 4]\n",
      "   [4 4]]]] \n",
      "\n",
      " ________________________________\n",
      "\n"
     ]
    }
   ],
   "source": [
    "#Initiallizing all the elements of a numpy-matrix with a particular element\n",
    "\n",
    "h = np.full(1, 1)\n",
    "i = np.full((2, 2), 1, dtype = \"int32\")\n",
    "j = np.full((3, 3), 99, dtype = \"int16\")\n",
    "\n",
    "print(h, \"\\n\\n\", \"________________________________\\n\")\n",
    "print(i, \"\\n\\n\", \"________________________________\\n\")\n",
    "print(j, \"\\n\\n\", \"________________________________\\n\")\n",
    "\n",
    "#2 x (2 x 2) matrices in a matrix\n",
    "\n",
    "k = np.full((2, 2, 2), 2)\n",
    "print(k, \"\\n\\n\", \"________________________________\\n\")\n",
    "\n",
    "l = np.full((2, 2, 2, 2), 4)\n",
    "print(l, \"\\n\\n\", \"________________________________\\n\")\n"
   ]
  },
  {
   "cell_type": "code",
   "execution_count": 79,
   "id": "33ef77ca",
   "metadata": {},
   "outputs": [
    {
     "data": {
      "text/plain": [
       "array([[0.98660329, 0.62293185],\n",
       "       [0.31058788, 0.00528383],\n",
       "       [0.97632904, 0.50719846],\n",
       "       [0.3056529 , 0.42735025]])"
      ]
     },
     "execution_count": 79,
     "metadata": {},
     "output_type": "execute_result"
    }
   ],
   "source": [
    "#Random decimal numbers\n",
    "\n",
    "m = np.random.rand(4, 2)\n",
    "\n",
    "print(m)"
   ]
  },
  {
   "cell_type": "code",
   "execution_count": 81,
   "id": "6766bdfc",
   "metadata": {},
   "outputs": [
    {
     "name": "stdout",
     "output_type": "stream",
     "text": [
      "[[5 7 2]\n",
      " [4 3 5]\n",
      " [4 5 5]]\n"
     ]
    }
   ],
   "source": [
    "#Random integer numbers\n",
    "\n",
    "n = np.random.randint(10, size = (3, 3))\n",
    "\n",
    "print(n)"
   ]
  },
  {
   "cell_type": "code",
   "execution_count": 84,
   "id": "0a473ecd",
   "metadata": {},
   "outputs": [
    {
     "name": "stdout",
     "output_type": "stream",
     "text": [
      "[[1.]] \n",
      "\n",
      "\n",
      "[[1. 0.]\n",
      " [0. 1.]] \n",
      "\n",
      "\n",
      "[[1. 0. 0.]\n",
      " [0. 1. 0.]\n",
      " [0. 0. 1.]] \n",
      "\n",
      "\n",
      "[[1. 0. 0. 0.]\n",
      " [0. 1. 0. 0.]\n",
      " [0. 0. 1. 0.]\n",
      " [0. 0. 0. 1.]] \n",
      "\n",
      "\n",
      "[[1. 0. 0. 0. 0.]\n",
      " [0. 1. 0. 0. 0.]\n",
      " [0. 0. 1. 0. 0.]\n",
      " [0. 0. 0. 1. 0.]\n",
      " [0. 0. 0. 0. 1.]] \n",
      "\n",
      "\n"
     ]
    }
   ],
   "source": [
    "#Identity matrices\n",
    "\n",
    "print(np.identity(1), \"\\n\\n\")\n",
    "print(np.identity(2), \"\\n\\n\")\n",
    "print(np.identity(3), \"\\n\\n\")\n",
    "print(np.identity(4), \"\\n\\n\")\n",
    "print(np.identity(5), \"\\n\\n\")"
   ]
  },
  {
   "cell_type": "code",
   "execution_count": 89,
   "id": "1e51468f",
   "metadata": {},
   "outputs": [
    {
     "name": "stdout",
     "output_type": "stream",
     "text": [
      "[[1. 1. 1. 1. 1.]\n",
      " [1. 0. 0. 0. 1.]\n",
      " [1. 0. 9. 0. 1.]\n",
      " [1. 0. 0. 0. 1.]\n",
      " [1. 1. 1. 1. 1.]]\n"
     ]
    }
   ],
   "source": [
    "o = np.ones((5, 5))\n",
    "\n",
    "for i in range (1, 4):\n",
    "    for j in range(1, 4):\n",
    "        o[i][j] = 0\n",
    "\n",
    "o[2][2] = 9\n",
    "\n",
    "print(o)"
   ]
  },
  {
   "cell_type": "code",
   "execution_count": 92,
   "id": "a71b984c",
   "metadata": {},
   "outputs": [
    {
     "name": "stdout",
     "output_type": "stream",
     "text": [
      "[100  99   3]\n",
      "[100  99   3]\n"
     ]
    }
   ],
   "source": [
    "#Unlike in C/C++ \"replica_arr\" is not a copy of \"np_arr\", in fact it points towards the same thing\n",
    "\n",
    "np_arr = np.array([1, 2, 3])\n",
    "\n",
    "replica_arr = np_arr\n",
    "\n",
    "np_arr[0] = 100\n",
    "replica_arr[1] = 99   #Since they points towards the same memory changes in one array will impact it's replica\n",
    "\n",
    "prin\n",
    "t(np_arr)\n",
    "print(replica_arr)"
   ]
  },
  {
   "cell_type": "code",
   "execution_count": 94,
   "id": "cabe6f09",
   "metadata": {},
   "outputs": [
    {
     "name": "stdout",
     "output_type": "stream",
     "text": [
      "[100   2   3]\n",
      "[ 1 99  3]\n"
     ]
    }
   ],
   "source": [
    "#To prevent the problem from above, we use \"copy()\" function\n",
    "\n",
    "np_arr = np.array([1, 2, 3])\n",
    "\n",
    "replica_arr = np_arr.copy()\n",
    "\n",
    "np_arr[0] = 100\n",
    "replica_arr[1] = 99   \n",
    "\n",
    "print(np_arr)\n",
    "print(replica_arr)"
   ]
  },
  {
   "cell_type": "code",
   "execution_count": 105,
   "id": "6257090a",
   "metadata": {},
   "outputs": [
    {
     "name": "stdout",
     "output_type": "stream",
     "text": [
      "[[0.         0.78539816]\n",
      " [3.14159265 3.92699082]] \n",
      "\n",
      "\n",
      "[[ 0.00000000e+00  7.07106781e-01]\n",
      " [ 1.22464680e-16 -7.07106781e-01]]\n"
     ]
    }
   ],
   "source": [
    "import math\n",
    "\n",
    "matrix1 = np.array(([0, 90], [180, 270]))\n",
    "\n",
    "matrix1 = np.array(([0, (math.pi / 4)], [math.pi, (math.pi + (math.pi / 4))]))\n",
    "\n",
    "print(matrix1, \"\\n\\n\")\n",
    "\n",
    "print(np.sin(matrix1))"
   ]
  },
  {
   "cell_type": "code",
   "execution_count": 115,
   "id": "facb57fb",
   "metadata": {},
   "outputs": [
    {
     "name": "stdout",
     "output_type": "stream",
     "text": [
      "m1:\n",
      "\n",
      " [[1. 1. 1.]\n",
      " [1. 1. 1.]] \n",
      "\n",
      "\n",
      "m2:\n",
      "\n",
      " [[2 2]\n",
      " [2 2]\n",
      " [2 2]] \n",
      "\n",
      "\n",
      "m1 x m2:\n",
      "\n",
      " [[6. 6.]\n",
      " [6. 6.]] \n",
      "\n",
      "\n"
     ]
    }
   ],
   "source": [
    "#Multiplication of 2 matrices\n",
    "\n",
    "m1 = np.ones((2, 3))\n",
    "m2 = np.full((3, 2), 2)\n",
    "\n",
    "print(\"m1:\\n\\n\", m1, \"\\n\\n\")\n",
    "print(\"m2:\\n\\n\", m2, \"\\n\\n\")\n",
    "\n",
    "print(\"m1 x m2:\\n\\n\", np.matmul(m1, m2), \"\\n\\n\")"
   ]
  },
  {
   "cell_type": "code",
   "execution_count": 116,
   "id": "589a806c",
   "metadata": {},
   "outputs": [
    {
     "name": "stdout",
     "output_type": "stream",
     "text": [
      "0.0\n"
     ]
    }
   ],
   "source": [
    "#Finding the determinant\n",
    "\n",
    "print(np.linalg.det(np.matmul(m1, m2)))   #(6 x 6) - (6 x 6)"
   ]
  },
  {
   "cell_type": "code",
   "execution_count": 126,
   "id": "848258ee",
   "metadata": {},
   "outputs": [
    {
     "name": "stdout",
     "output_type": "stream",
     "text": [
      "[[ 2  4  6]\n",
      " [ 8 10 12]] \n",
      "\n",
      "\n",
      "2\n",
      "12\n",
      "42\n"
     ]
    }
   ],
   "source": [
    "#Basic statistics\n",
    "\n",
    "stats = np.array([[2, 4, 6], [8, 10, 12]])\n",
    "print(stats, \"\\n\\n\")\n",
    "\n",
    "print(np.min(stats))\n",
    "print(np.max(stats))\n",
    "\n",
    "print(np.sum(stats))"
   ]
  }
 ],
 "metadata": {
  "kernelspec": {
   "display_name": "Python 3 (ipykernel)",
   "language": "python",
   "name": "python3"
  },
  "language_info": {
   "codemirror_mode": {
    "name": "ipython",
    "version": 3
   },
   "file_extension": ".py",
   "mimetype": "text/x-python",
   "name": "python",
   "nbconvert_exporter": "python",
   "pygments_lexer": "ipython3",
   "version": "3.9.12"
  }
 },
 "nbformat": 4,
 "nbformat_minor": 5
}

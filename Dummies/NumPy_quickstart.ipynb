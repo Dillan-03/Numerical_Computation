{
 "cells": [
  {
   "cell_type": "code",
   "execution_count": 4,
   "id": "1f79c58e",
   "metadata": {},
   "outputs": [
    {
     "name": "stdout",
     "output_type": "stream",
     "text": [
      "[ 0  1  2  3  4  5  6  7  8  9 10 11 12 13 14] \n",
      "\n",
      "\n",
      "[[ 0  1  2  3  4]\n",
      " [ 5  6  7  8  9]\n",
      " [10 11 12 13 14]]\n"
     ]
    }
   ],
   "source": [
    "import numpy as np\n",
    "\n",
    "a = np.arange(15)\n",
    "\n",
    "print(a, \"\\n\\n\")\n",
    "\n",
    "b = a.reshape(3, 5)   #3-rows, 5-columns\n",
    "\n",
    "print(b)\n"
   ]
  },
  {
   "cell_type": "code",
   "execution_count": 6,
   "id": "8e445203",
   "metadata": {},
   "outputs": [
    {
     "name": "stdout",
     "output_type": "stream",
     "text": [
      "dimension of a:  1\n",
      "dimension of b:  2\n"
     ]
    }
   ],
   "source": [
    "#return the dimension of an array\n",
    "\n",
    "print(\"dimension of a: \", a.ndim)\n",
    "print(\"dimension of b: \", b.ndim)"
   ]
  },
  {
   "cell_type": "code",
   "execution_count": 8,
   "id": "5af54ffe",
   "metadata": {},
   "outputs": [
    {
     "name": "stdout",
     "output_type": "stream",
     "text": [
      "total number of elements in a:  15\n",
      "total number of elements in b:  15\n"
     ]
    }
   ],
   "source": [
    "#return the total number of elements in an array\n",
    "\n",
    "print(\"total number of elements in a: \", a.size)\n",
    "print(\"total number of elements in b: \", b.size)"
   ]
  },
  {
   "cell_type": "code",
   "execution_count": 9,
   "id": "bcb7508a",
   "metadata": {},
   "outputs": [
    {
     "name": "stdout",
     "output_type": "stream",
     "text": [
      "<class 'numpy.ndarray'>\n",
      "<class 'numpy.ndarray'>\n"
     ]
    }
   ],
   "source": [
    "print(type(a))\n",
    "print(type(b))"
   ]
  },
  {
   "cell_type": "code",
   "execution_count": 10,
   "id": "820f6fee",
   "metadata": {},
   "outputs": [
    {
     "name": "stdout",
     "output_type": "stream",
     "text": [
      "[6 7 8]\n"
     ]
    }
   ],
   "source": [
    "#Numpy's classic way of creating an array\n",
    "\n",
    "c = np.array([6, 7, 8])\n",
    "print(c)"
   ]
  },
  {
   "cell_type": "code",
   "execution_count": 13,
   "id": "83fad94f",
   "metadata": {},
   "outputs": [
    {
     "name": "stdout",
     "output_type": "stream",
     "text": [
      "datatype of a:  int64\n",
      "datatype of b:  int64\n",
      "datatype of c:  int64\n",
      "datatype of d:  float64\n"
     ]
    }
   ],
   "source": [
    "#return the data-type\n",
    "\n",
    "print(\"datatype of a: \", a.dtype)\n",
    "print(\"datatype of b: \", b.dtype)\n",
    "print(\"datatype of c: \", c.dtype)\n",
    "\n",
    "d = np.array([1.2, 3.5, 5.1])\n",
    "\n",
    "print(\"datatype of d: \", d.dtype)"
   ]
  },
  {
   "cell_type": "code",
   "execution_count": 14,
   "id": "47ffb372",
   "metadata": {},
   "outputs": [
    {
     "name": "stdout",
     "output_type": "stream",
     "text": [
      "[[1.5 2.  3. ]\n",
      " [4.  5.  6. ]]\n"
     ]
    }
   ],
   "source": [
    "#Numpy's classic 2-D array\n",
    "\n",
    "e = np.array([(1.5, 2, 3), (4, 5, 6)])\n",
    "\n",
    "print(e)"
   ]
  },
  {
   "cell_type": "code",
   "execution_count": 17,
   "id": "3177fa59",
   "metadata": {},
   "outputs": [
    {
     "name": "stdout",
     "output_type": "stream",
     "text": [
      "[[0. 0. 0. 0.]\n",
      " [0. 0. 0. 0.]\n",
      " [0. 0. 0. 0.]]\n"
     ]
    }
   ],
   "source": [
    "#All 0s array\n",
    "\n",
    "f = np.zeros((3, 4))\n",
    "\n",
    "print(f)"
   ]
  },
  {
   "cell_type": "code",
   "execution_count": 20,
   "id": "5e55d274",
   "metadata": {},
   "outputs": [
    {
     "name": "stdout",
     "output_type": "stream",
     "text": [
      "[[[1 1 1 1]\n",
      "  [1 1 1 1]\n",
      "  [1 1 1 1]]\n",
      "\n",
      " [[1 1 1 1]\n",
      "  [1 1 1 1]\n",
      "  [1 1 1 1]]]\n"
     ]
    }
   ],
   "source": [
    "#All 1s array\n",
    "\n",
    "g = np.ones((2, 3, 4), dtype = np.int16)   #There are 2 of 3 x 4 matrices of 1s\n",
    "\n",
    "print(g)"
   ]
  },
  {
   "cell_type": "code",
   "execution_count": 25,
   "id": "89e3613a",
   "metadata": {},
   "outputs": [
    {
     "name": "stdout",
     "output_type": "stream",
     "text": [
      "h:  [10 15 20 25] \n",
      "\n",
      "i:  [0.  0.3 0.6 0.9 1.2 1.5 1.8] \n",
      "\n"
     ]
    }
   ],
   "source": [
    "#Starting-point, Ending-point, step-size\n",
    "\n",
    "h = np.arange(10, 30, 5)   #np.arrange(Starting-point, Ending-point, step-size)\n",
    "i = np.arange(0, 2, 0.3)\n",
    "\n",
    "print(\"h: \", h, \"\\n\")\n",
    "print(\"i: \", i, \"\\n\")"
   ]
  },
  {
   "cell_type": "code",
   "execution_count": 28,
   "id": "f1083af6",
   "metadata": {},
   "outputs": [
    {
     "name": "stdout",
     "output_type": "stream",
     "text": [
      "j:  [ 0.   2.5  5.   7.5 10. ] \n",
      "\n",
      "k:  [ 2.  4.  6.  8. 10.] \n",
      "\n"
     ]
    }
   ],
   "source": [
    "#\"linspace\" returns an array with specified number of elements witihin the interval\n",
    "\n",
    "j = np.linspace(0, 10, 5)\n",
    "k = np.linspace(2, 10, 5)\n",
    "    \n",
    "print(\"j: \", j, \"\\n\")\n",
    "print(\"k: \", k, \"\\n\")"
   ]
  },
  {
   "cell_type": "code",
   "execution_count": 35,
   "id": "98c981fc",
   "metadata": {},
   "outputs": [
    {
     "name": "stdout",
     "output_type": "stream",
     "text": [
      "l:  [20 30 40 50] \n",
      "\n",
      "m:  [0 1 2 3] \n",
      "\n",
      "l + m:  [20 31 42 53] \n",
      "\n",
      "l x m:  [  0  30  80 150] \n",
      "\n"
     ]
    }
   ],
   "source": [
    "#Basic operations\n",
    "\n",
    "l = np.array([20, 30, 40, 50])\n",
    "m = np.arange(4)   #does not include 4\n",
    "\n",
    "print(\"l: \", l, \"\\n\")\n",
    "print(\"m: \", m, \"\\n\")\n",
    "\n",
    "print(\"l + m: \", l + m, \"\\n\")\n",
    "print(\"l x m: \", l * m, \"\\n\")"
   ]
  },
  {
   "cell_type": "code",
   "execution_count": 41,
   "id": "ca3ef4d5",
   "metadata": {},
   "outputs": [
    {
     "name": "stdout",
     "output_type": "stream",
     "text": [
      "[ 0.          0.84147098  0.90929743  0.14112001 -0.7568025  -0.95892427\n",
      " -0.2794155   0.6569866   0.98935825  0.41211849 -0.54402111 -0.99999021\n",
      " -0.53657292  0.42016704  0.99060736]\n"
     ]
    }
   ],
   "source": [
    "import math\n",
    "\n",
    "n = np.array([0, (math.pi / 2), math.pi, ((math.pi / 2) + math.pi), (2 * math.pi)])\n",
    "\n",
    "print(np.sin(a))\n"
   ]
  },
  {
   "cell_type": "code",
   "execution_count": 44,
   "id": "50ab3bc6",
   "metadata": {},
   "outputs": [
    {
     "name": "stdout",
     "output_type": "stream",
     "text": [
      "o > 5:  [False False False False False  True  True  True  True  True]\n"
     ]
    }
   ],
   "source": [
    "#Boolean\n",
    "\n",
    "o = np.array([1, 2, 3, 4, 5, 6, 7, 8, 9, 10])\n",
    "\n",
    "\n",
    "print(\"o > 5: \", o > 5)"
   ]
  },
  {
   "cell_type": "code",
   "execution_count": 54,
   "id": "dce4041c",
   "metadata": {},
   "outputs": [
    {
     "name": "stdout",
     "output_type": "stream",
     "text": [
      "p: \n",
      " [[1 1]\n",
      " [0 1]] \n",
      "\n",
      "\n",
      "q: \n",
      " [[2 0]\n",
      " [3 4]] \n",
      "\n",
      "\n",
      "p * q: \n",
      " [[2 0]\n",
      " [0 4]] \n",
      "\n",
      "\n",
      "p @ q: \n",
      " [[5 4]\n",
      " [3 4]] \n",
      "\n",
      "\n",
      "p.dot(q): \n",
      " [[5 4]\n",
      " [3 4]] \n",
      "\n",
      "\n"
     ]
    }
   ],
   "source": [
    "#Multiplication of matrices\n",
    "\n",
    "p = np.array([[1, 1], [0, 1]])\n",
    "\n",
    "q = np.array([[2, 0], [3, 4]])\n",
    "\n",
    "print(\"p: \\n\", p, \"\\n\\n\")\n",
    "print(\"q: \\n\", q, \"\\n\\n\")\n",
    "\n",
    "#Element-wise multiplication\n",
    "\n",
    "print(\"p * q: \\n\", p * q, \"\\n\\n\")\n",
    "\n",
    "#Matrix multiplication\n",
    "\n",
    "print(\"p @ q: \\n\", p @ q, \"\\n\\n\")\n",
    "\n",
    "print(\"p.dot(q): \\n\", p.dot(q), \"\\n\\n\")"
   ]
  },
  {
   "cell_type": "code",
   "execution_count": 62,
   "id": "b4af6c4b",
   "metadata": {},
   "outputs": [
    {
     "name": "stdout",
     "output_type": "stream",
     "text": [
      "p.sum():  3\n",
      "p.min():  0 \n",
      "\n",
      "\n",
      "q.sum():  9\n",
      "q.max():  4 \n",
      "\n",
      "\n"
     ]
    }
   ],
   "source": [
    "#Summing all the elements in the array\n",
    "\n",
    "print(\"p.sum(): \", p.sum())\n",
    "print(\"p.min(): \", p.min(), \"\\n\\n\")\n",
    "\n",
    "print(\"q.sum(): \", q.sum())\n",
    "print(\"q.max(): \", q.max(), \"\\n\\n\")"
   ]
  },
  {
   "cell_type": "code",
   "execution_count": 64,
   "id": "777138f3",
   "metadata": {},
   "outputs": [
    {
     "name": "stdout",
     "output_type": "stream",
     "text": [
      "[[ 0  1  2  3]\n",
      " [ 4  5  6  7]\n",
      " [ 8  9 10 11]]\n"
     ]
    }
   ],
   "source": [
    "r = np.arange(12).reshape(3, 4)\n",
    "\n",
    "print(r)"
   ]
  },
  {
   "cell_type": "code",
   "execution_count": 67,
   "id": "c3125fdd",
   "metadata": {},
   "outputs": [
    {
     "name": "stdout",
     "output_type": "stream",
     "text": [
      "Column sum:  [12 15 18 21]\n",
      "Row sum:  [ 6 22 38]\n"
     ]
    }
   ],
   "source": [
    "#Sum of each column\n",
    "\n",
    "print(\"Column sum: \", r.sum(axis = 0))\n",
    "\n",
    "#Sum of each row\n",
    "\n",
    "print(\"Row sum: \", r.sum(axis = 1))\n"
   ]
  },
  {
   "cell_type": "code",
   "execution_count": 70,
   "id": "e8adc7cb",
   "metadata": {},
   "outputs": [
    {
     "name": "stdout",
     "output_type": "stream",
     "text": [
      "Cumulative column sum:  [[ 0  1  2  3]\n",
      " [ 4  6  8 10]\n",
      " [12 15 18 21]] \n",
      "\n",
      "\n",
      "Cumulative row sum:  [[ 0  1  3  6]\n",
      " [ 4  9 15 22]\n",
      " [ 8 17 27 38]]\n"
     ]
    }
   ],
   "source": [
    "#Cumulative sum of each \n",
    "\n",
    "print(\"Cumulative column sum: \", r.cumsum(axis = 0), \"\\n\\n\")\n",
    "print(\"Cumulative row sum: \", r.cumsum(axis = 1))"
   ]
  },
  {
   "cell_type": "code",
   "execution_count": 73,
   "id": "4c6fe514",
   "metadata": {},
   "outputs": [
    {
     "name": "stdout",
     "output_type": "stream",
     "text": [
      "[[1. 2. 3.]\n",
      " [4. 5. 6.]]\n"
     ]
    }
   ],
   "source": [
    "#Square rooting\n",
    "\n",
    "s = np.array([[1, 4, 9], [16, 25, 36]])\n",
    "\n",
    "print(np.sqrt(s))"
   ]
  },
  {
   "cell_type": "code",
   "execution_count": 84,
   "id": "9c8f1b2f",
   "metadata": {},
   "outputs": [
    {
     "name": "stdout",
     "output_type": "stream",
     "text": [
      "t:  [  0   1   8  27  64 125 216 343 512 729]\n",
      "t[2 : 5]:  [ 8 27 64]\n",
      "t[ : 6 : 2]:  [ 0  8 64]\n",
      "t:  [  0   1   0  27   0 125 216 343 512 729]\n"
     ]
    }
   ],
   "source": [
    "#Indexing, Slicing and Iterating\n",
    "\n",
    "t = np.arange(10) ** 3\n",
    "\n",
    "print(\"t: \", t)\n",
    "print(\"t[2 : 5]: \", t[2: 5])   #Starting from index-2 up to but not including the index-5\n",
    "print(\"t[ : 6 : 2]: \", t[ : 6 : 2])   #Starting from index-0 up to but not inclduding index-6, step-size 2\n",
    "\n",
    "t[ : 6 : 2] = 0\n",
    "\n",
    "print(\"t: \", t)"
   ]
  },
  {
   "cell_type": "code",
   "execution_count": 86,
   "id": "202af335",
   "metadata": {},
   "outputs": [
    {
     "name": "stdout",
     "output_type": "stream",
     "text": [
      "[1 4 9] [16 25 36] "
     ]
    }
   ],
   "source": [
    "#Print individual rows in the matrix\n",
    "\n",
    "for row in s:\n",
    "    print(row)\n"
   ]
  },
  {
   "cell_type": "code",
   "execution_count": 97,
   "id": "acfeb847",
   "metadata": {},
   "outputs": [
    {
     "name": "stdout",
     "output_type": "stream",
     "text": [
      "[3 7 3 4 1 4 2 2 7 2 4 9] \n",
      "\n",
      "\n",
      "[[3 7]\n",
      " [3 4]\n",
      " [1 4]\n",
      " [2 2]\n",
      " [7 2]\n",
      " [4 9]] \n",
      "\n",
      "\n",
      "s dimensions:  (6, 2) \n",
      "\n",
      "\n",
      "s Transposed dimensions:  (2, 6) \n",
      "\n",
      "\n",
      "[[3 3 1 2 7 4]\n",
      " [7 4 4 2 2 9]]\n"
     ]
    }
   ],
   "source": [
    "#Transposition\n",
    "\n",
    "u = np.array([3, 7, 3, 4, 1, 4, 2, 2, 7, 2, 4, 9])\n",
    "\n",
    "print(u, \"\\n\\n\")\n",
    "\n",
    "s = u.reshape(6, 2)\n",
    "\n",
    "print(s, \"\\n\\n\")\n",
    "\n",
    "print(\"s dimensions: \", s.shape, \"\\n\\n\")\n",
    "print(\"s Transposed dimensions: \", s.T.shape, \"\\n\\n\")\n",
    "print(s.T)"
   ]
  },
  {
   "cell_type": "code",
   "execution_count": 107,
   "id": "9e8dfb1f",
   "metadata": {},
   "outputs": [
    {
     "name": "stdout",
     "output_type": "stream",
     "text": [
      "[[ 0  1]\n",
      " [ 2  3]\n",
      " [ 4  5]\n",
      " [ 6  7]\n",
      " [ 8  9]\n",
      " [10 11]] \n",
      "\n",
      "\n",
      "[[ 0  1]\n",
      " [ 2  3]\n",
      " [ 4  5]\n",
      " [ 6  7]\n",
      " [ 8  9]\n",
      " [10 11]] \n",
      "\n",
      "\n",
      "[[ 0  1]\n",
      " [ 2  3]\n",
      " [ 4  5]\n",
      " [ 6  7]\n",
      " [ 8  9]\n",
      " [10 11]] \n",
      "\n",
      "\n"
     ]
    }
   ],
   "source": [
    "\"\"\"\n",
    "The \"reshape\" function returns its argument with a modified shape, wheras \"ndarray.resize\" method modifies the \n",
    "array itself.\n",
    "\"\"\"\n",
    "\n",
    "print(r, \"\\n\\n\")\n",
    "\n",
    "r.reshape((6, 2))\n",
    "\n",
    "print(r, \"\\n\\n\")\n",
    "\n",
    "r.resize((6, 2))\n",
    "\n",
    "print(r, \"\\n\\n\")"
   ]
  },
  {
   "cell_type": "code",
   "execution_count": null,
   "id": "4d384c15",
   "metadata": {},
   "outputs": [],
   "source": []
  },
  {
   "cell_type": "code",
   "execution_count": null,
   "id": "e4e7a7df",
   "metadata": {},
   "outputs": [],
   "source": []
  }
 ],
 "metadata": {
  "kernelspec": {
   "display_name": "Python 3 (ipykernel)",
   "language": "python",
   "name": "python3"
  },
  "language_info": {
   "codemirror_mode": {
    "name": "ipython",
    "version": 3
   },
   "file_extension": ".py",
   "mimetype": "text/x-python",
   "name": "python",
   "nbconvert_exporter": "python",
   "pygments_lexer": "ipython3",
   "version": "3.9.12"
  }
 },
 "nbformat": 4,
 "nbformat_minor": 5
}

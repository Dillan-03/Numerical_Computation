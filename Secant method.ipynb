{
 "cells": [
  {
   "cell_type": "code",
   "execution_count": 29,
   "id": "a3aa4470",
   "metadata": {},
   "outputs": [
    {
     "name": "stdout",
     "output_type": "stream",
     "text": [
      "x1: 2\n",
      "x2: 0\n",
      "root = 1.500000 at 14 iterations\n"
     ]
    }
   ],
   "source": [
    "\"\"\"\n",
    "Secant methood formula: x[i + 2] = x[i + 1] - ((x[i + 1] - x[i]) / (f(y[i + 1]) - f(y[i])) * f(y[i + 1])\n",
    "\n",
    "x[i + 2] = x[i + 1] - ((x[i + 1] - x[i]) / (y[i + 1] - y[i])) * y[i + 1]\n",
    "\n",
    "x3 = x2 - ((x2 - x1) / y2 - y1)) * y2\n",
    "\"\"\"\n",
    "import numpy as np\n",
    "\n",
    "def secant(fn, x1, x2, tolerance, max_iterations):\n",
    "    for i in range(max_iterations):\n",
    "        x_new = x2 - (x2 - x1) / (fn(x2) - fn(x1)) * fn(x2)\n",
    "        if abs(x_new - x2) < tolerance:\n",
    "            return x_new, i\n",
    "        else:\n",
    "            x1 = x2\n",
    "            x2 = x_new\n",
    "    else:\n",
    "        (\"Warning: Maximum number of iterations is reached! Still the solution has not been attained!\")\n",
    "\n",
    "function = lambda x: (2 * (x ** 2)) - (5 * x) + 3\n",
    "x1 = 2\n",
    "x2 = 0\n",
    "\n",
    "root, iterations = secant(function, x1, x2, 0.000001, 100)   #tolerance 1.e-6 (6 decimal places)\n",
    "print(f\"x1: {x1}\\nx2: {x2}\")\n",
    "print(\"root = %.6f at %d iterations\" % (root, iterations))       "
   ]
  },
  {
   "cell_type": "code",
   "execution_count": 21,
   "id": "12979178",
   "metadata": {},
   "outputs": [
    {
     "name": "stdout",
     "output_type": "stream",
     "text": [
      "Enter x1: 0\n",
      "Enter x2: 2\n",
      "root = 1.500000 at 8 iterations\n"
     ]
    }
   ],
   "source": [
    "import numpy as np\n",
    "\n",
    "def secant(fn, x1, x2, tol, maxiter):\n",
    "    for iteration in range (maxiter):\n",
    "        xnew = x2 - (x2 - x1) / (fn(x2) - fn(x1)) * fn(x2)\n",
    "        if abs(xnew - x2) < tol:\n",
    "            break\n",
    "        else:\n",
    "            x1 = x2\n",
    "            x2 = xnew\n",
    "    else:\n",
    "        print(\"Warining: Maximum number of iterations is reached!\")\n",
    "    return xnew, iteration\n",
    "\n",
    "f = lambda x : 2*x**2 - 5*x + 3\n",
    "x1 = float(input(\"Enter x1: \"))\n",
    "x2 = float(input(\"Enter x2: \"))\n",
    "\n",
    "r, n = secant(f, x1, x2, 0.000001, 100)\n",
    "print(\"root = %.6f at %d iterations\" % (r, n))       "
   ]
  },
  {
   "cell_type": "code",
   "execution_count": null,
   "id": "eab6ff43",
   "metadata": {},
   "outputs": [],
   "source": []
  }
 ],
 "metadata": {
  "kernelspec": {
   "display_name": "python_ml",
   "language": "python",
   "name": "python_ml"
  },
  "language_info": {
   "codemirror_mode": {
    "name": "ipython",
    "version": 3
   },
   "file_extension": ".py",
   "mimetype": "text/x-python",
   "name": "python",
   "nbconvert_exporter": "python",
   "pygments_lexer": "ipython3",
   "version": "3.9.0"
  }
 },
 "nbformat": 4,
 "nbformat_minor": 5
}

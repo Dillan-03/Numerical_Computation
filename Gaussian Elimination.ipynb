{
 "cells": [
  {
   "cell_type": "code",
   "execution_count": 5,
   "id": "d763f6b1",
   "metadata": {},
   "outputs": [
    {
     "name": "stdout",
     "output_type": "stream",
     "text": [
      "[[ 2.          7.         -1.          3.          1.        ]\n",
      " [ 0.          4.         -5.          2.         -6.        ]\n",
      " [ 0.          0.         -5.          0.52631579 -6.84210526]\n",
      " [ 0.          0.          0.          1.6374269   2.04678363]\n",
      " [ 0.          0.          0.          0.          0.95890411]]\n",
      "[0.44444444 0.55555556 0.66666667 0.22222222 0.22222222]\n"
     ]
    }
   ],
   "source": [
    "\"\"\"\n",
    "Remember that in a systems of linear equations: Ax = b\n",
    "\n",
    "_where A is a matrix that contains all the coefficients\n",
    "_x is a vector that contains all the solutions: x1, x2, x3, ... xn\n",
    "_b is a vector that contains all the constants\n",
    "\n",
    "\"\"\"\n",
    "\n",
    "import numpy as np\n",
    "\n",
    "A = np.array([[2, 7, -1, 3, 1],\n",
    "              [2, 3, 4, 1, 7],\n",
    "              [6, 2, -3, 2, -1],\n",
    "              [2, 1, 2, -1, 2],\n",
    "              [3, 4, 1, -2, 1]], float)\n",
    "\n",
    "b = np.array([5, 7, 2, 3, 4], float)\n",
    "n = len(b)\n",
    "x = np.zeros(n, float)                     #This vector is initially filled with zeroes\n",
    "                                          \n",
    "#Elimination\n",
    "for k in range(n - 1):\n",
    "    for i in range(k + 1, n):              #the first row is fixed, hence starting from k + 1\n",
    "        factor = A[k, k] / A[i, k]         #finding the factor so that the coefficients in the same columns are equal \n",
    "        b[i] = b[k] - factor * b[i]        \n",
    "        for j in range(k, n):\n",
    "            A[i, j] = A[k, j] - factor * A[i, j]    #elimination\n",
    "\n",
    "print(A)\n",
    "\n",
    "x[n - 1] = b[n - 1] / A[n - 1, n - 1]\n",
    "\n",
    "for i in range(n - 2, -1, -1):             #Iteration starting from 2nd to last element to the first backwards\n",
    "    terms = 0\n",
    "    for j in range(i + 1, n):\n",
    "       terms += A[i, j] * x[j]\n",
    "    x[i] = (b[i] - terms) / A[i, i]\n",
    "    \n",
    "print(x)\n"
   ]
  },
  {
   "cell_type": "code",
   "execution_count": 14,
   "id": "996759b9",
   "metadata": {},
   "outputs": [
    {
     "name": "stdout",
     "output_type": "stream",
     "text": [
      "[[ 0.  7. -1.  3.  1.]\n",
      " [ 0.  7. -1.  3.  1.]\n",
      " [ 0.  0.  0.  0.  0.]\n",
      " [ 0.  0. nan nan nan]\n",
      " [ 0.  0. nan nan nan]]\n"
     ]
    },
    {
     "name": "stderr",
     "output_type": "stream",
     "text": [
      "/var/folders/0t/37zzt2wj3ygb5dmbchvqxtdc0000gn/T/ipykernel_1297/261290990.py:27: RuntimeWarning: invalid value encountered in double_scalars\n",
      "  factor = A[k, k] / A[i, k]\n"
     ]
    }
   ],
   "source": [
    "import numpy as np\n",
    "\n",
    "\"\"\"\n",
    "A = np.array([[2, 7, -1, 3, 1],\n",
    "              [2, 3, 4, 1, 7],\n",
    "              [6, 2, -3, 2, -1],\n",
    "              [2, 1, 2, -1, 2],\n",
    "              [3, 4, 1, -2, 1]], float)\n",
    "\n",
    "b = np.array([5, 7, 2, 3, 4], float)\n",
    "\"\"\"\n",
    "A = np.array([[0, 7, -1, 3, 1],\n",
    "              [2, 3, 4, 1, 7],\n",
    "              [6, 2, 0, 2, -1],\n",
    "              [2, 1, 2, 0, 2],\n",
    "              [3, 4, 1, -2, 1]], float)\n",
    "\n",
    "b = np.array([5, 7, 2, 3, 4], float)\n",
    "\n",
    "def elimination(A, b):\n",
    "    n = len(b)\n",
    "    x = np.zeros(n, float)                     #This vector is initially filled with zeroes\n",
    "                                          \n",
    "    #Elimination\n",
    "    for k in range(n - 1):\n",
    "        for i in range(k + 1, n):\n",
    "            factor = A[k, k] / A[i, k]\n",
    "            #b[i] = b[k] - factor * b[i]        \n",
    "            for j in range(k, n):\n",
    "                A[i, j] = A[k, j] - factor * A[i, j]\n",
    "    return A\n",
    "\n",
    "print(elimination(A, b))\n",
    "\n",
    "\"\"\"\n",
    "Please note that this elimination method doesn't work if the diagonals contains 0. So please only refer to the \n",
    "method below for all test-cases.\n",
    "\"\"\""
   ]
  },
  {
   "cell_type": "code",
   "execution_count": 16,
   "id": "dc4edd0a",
   "metadata": {},
   "outputs": [
    {
     "name": "stdout",
     "output_type": "stream",
     "text": [
      "[1. 1. 1. 1.]T\n",
      "\n",
      "x1: 1.0\n",
      "x2: 1.0\n",
      "x3: 1.0\n",
      "x4: 1.0\n"
     ]
    }
   ],
   "source": [
    "import numpy as np\n",
    "\n",
    "\n",
    "A = np.array([[4, 3, 2, 1],\n",
    "              [1, 2, 2, 2],\n",
    "              [1, 1, 3, 0],\n",
    "              [2, 1, 2, 3]], float)\n",
    "\n",
    "b = np.array([10, 7, 5, 8], float)\n",
    "\n",
    "# A = np.array([[0, 7, -1, 3, 1],\n",
    "#               [2, 3, 4, 1, 7],\n",
    "#               [6, 2, 0, 2, -1],\n",
    "#               [2, 1, 2, 0, 2],\n",
    "#               [3, 4, 1, -2, 1]], float)\n",
    "\n",
    "# b = np.array([5, 7, 2, 3, 4], float)\n",
    "\n",
    "def Guassian_Elimination(A, b):\n",
    "    n = len(b)\n",
    "    x = np.zeros(n, float)                     #This vector is initially filled with zeroes\n",
    "                                          \n",
    "    #Elimination\n",
    "    for k in range(n - 1):\n",
    "        if A[k, k] == 0:                       #if diagonals are 0\n",
    "            for j in range(n):\n",
    "                A[k , j], A[k + 1, j] = A[k + 1, j], A[k, j]\n",
    "            b[k], b[k + 1] = b[k + 1], b[k]\n",
    "                \n",
    "        for i in range(k + 1, n):              #the first row is fixed, hence starting from k + 1\n",
    "            if A[i, k] == 0:                   #if a coefficient is zero, skip the lines below within the for-loop\n",
    "                continue                       #we do not need to eliminate since, it is already 0\n",
    "            factor = A[k, k] / A[i, k]         #finding the factor so that the coefficients in the same columns are equal \n",
    "            b[i] = b[k] - factor * b[i]        \n",
    "            for j in range(k, n):\n",
    "                A[i, j] = A[k, j] - factor * A[i, j]    #elimination\n",
    "\n",
    "    #Backward_Substitution\n",
    "    x[n - 1] = b[n - 1] / A[n - 1, n - 1]\n",
    "\n",
    "    for i in range(n - 2, -1, -1):             #Iteration starting from 2nd to last element to the first backwards\n",
    "        terms = 0\n",
    "        for j in range(i + 1, n):\n",
    "           terms += A[i, j] * x[j]\n",
    "        x[i] = (b[i] - terms) / A[i, i]\n",
    "    \n",
    "    print(f\"{x}T\\n\")\n",
    "    for i in range(n):\n",
    "        print(f\"x{i + 1}: {x[i]}\")\n",
    "    \n",
    "Guassian_Elimination(A, b)"
   ]
  }
 ],
 "metadata": {
  "kernelspec": {
   "display_name": "python_ml",
   "language": "python",
   "name": "python_ml"
  },
  "language_info": {
   "codemirror_mode": {
    "name": "ipython",
    "version": 3
   },
   "file_extension": ".py",
   "mimetype": "text/x-python",
   "name": "python",
   "nbconvert_exporter": "python",
   "pygments_lexer": "ipython3",
   "version": "3.9.0"
  }
 },
 "nbformat": 4,
 "nbformat_minor": 5
}
